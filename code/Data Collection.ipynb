{
 "cells": [
  {
   "cell_type": "code",
   "execution_count": 74,
   "metadata": {},
   "outputs": [],
   "source": [
    "import requests\n",
    "import pprint\n",
    "from bs4 import BeautifulSoup\n",
    "import pandas as pd\n"
   ]
  },
  {
   "cell_type": "code",
   "execution_count": 75,
   "metadata": {},
   "outputs": [],
   "source": [
    "def parseFromUrl(chapter_num, lang):\n",
    "    URL=\"\"\n",
    "    if(lang):\n",
    "        URL = \"https://www.bible.com/fr/bible/1217/GEN.\"+str(chapter_num)+\".SSDC98\"\n",
    "    else:\n",
    "        URL=\"https://www.bible.com/fr/bible/152/GEN.\"+str(chapter_num)+\".S21\"\n",
    "    page = requests.get(URL)\n",
    "    soup = BeautifulSoup(page.content, 'html.parser')\n",
    "    return soup"
   ]
  },
  {
   "cell_type": "code",
   "execution_count": 95,
   "metadata": {},
   "outputs": [],
   "source": [
    "def parseToDataFrame(numOfVerset, soup, currentlang, oppLang):\n",
    "    rows_list=[]\n",
    "    for i in range(numOfVerset):\n",
    "        value=\"verse v\"+str(i+1)\n",
    "        data=soup.findAll(\"div\", {\"class\": \"book bkGEN\"})[0].findAll(\"span\", {\"class\": value})\n",
    "        for j in range(len(data)): \n",
    "            label=data[j].findAll(\"span\", {\"class\": \"label\"})\n",
    "            content=data[j].findAll(\"span\", {\"class\": \"content\"})\n",
    "            RecordtoAdd={} \n",
    "            RecordtoAdd.update({oppLang : \"\"})\n",
    "            if len(label)>0:\n",
    "                #print(label[0].text.strip())\n",
    "                RecordtoAdd.update({'Verset' : label[0].text.strip()})\n",
    "\n",
    "            for c in range(len(content)):\n",
    "                if c==0:\n",
    "                    concat_content= content[c].text.strip()\n",
    "                else:\n",
    "                    concat_content+=\" \"+ content[c].text.strip()\n",
    "\n",
    "                #print( content[c].text.strip())\n",
    "            RecordtoAdd.update({currentlang : concat_content})\n",
    "            rows_list.append(RecordtoAdd)\n",
    "    return pd.DataFrame(rows_list)"
   ]
  },
  {
   "cell_type": "code",
   "execution_count": 99,
   "metadata": {},
   "outputs": [],
   "source": [
    "def findeNumberOfVerset(numberOfChapter, lang, filename,opplang):\n",
    "    numberOfVerset=[]\n",
    "    for chap in range(numberOfChapter):\n",
    "        soup=parseFromUrl(chap+1,lang)\n",
    "        value=\"pb3 tc\"\n",
    "        versets=soup.findAll(\"li\", {\"class\": value})\n",
    "        numberOfVerset=len(versets)\n",
    "        df=parseToDataFrame(numberOfVerset, soup,filename, opplang)\n",
    "        df.to_csv(\"../dataset/\"+filename+\"/livre1/chapter_\"+str(chap+1),index=False)\n",
    "    return numberOfVerset"
   ]
  },
  {
   "cell_type": "code",
   "execution_count": 100,
   "metadata": {},
   "outputs": [
    {
     "data": {
      "text/plain": [
       "26"
      ]
     },
     "execution_count": 100,
     "metadata": {},
     "output_type": "execute_result"
    }
   ],
   "source": [
    "findeNumberOfVerset(50,False, \"Francais\", \"Moore\")"
   ]
  },
  {
   "cell_type": "markdown",
   "metadata": {},
   "source": [
    "### END"
   ]
  },
  {
   "cell_type": "code",
   "execution_count": 36,
   "metadata": {},
   "outputs": [],
   "source": [
    "chapter_num=2\n",
    "numOfVerset=25\n",
    "soup=parseFromUrl(chapter_num)\n",
    "df=parseToDataFrame(numOfVerset, soup)"
   ]
  },
  {
   "cell_type": "code",
   "execution_count": 57,
   "metadata": {},
   "outputs": [],
   "source": [
    "chapter_num_list=[31,25,24,26,32,22,24,22,29,32,32,20,18,24,21,16,27,33,38,18,34,24,20,67,34,35,46,22,35,43,54,33] #32\n",
    "Francais_chapter_num_list=[31,25,24,26,32,22,24,22,29,32,32,20,18,24,21,16,27,33,38,18,34,24,20,67,34,35,46,22,35,43,54,33]"
   ]
  }
 ],
 "metadata": {
  "kernelspec": {
   "display_name": "Python 3",
   "language": "python",
   "name": "python3"
  },
  "language_info": {
   "codemirror_mode": {
    "name": "ipython",
    "version": 3
   },
   "file_extension": ".py",
   "mimetype": "text/x-python",
   "name": "python",
   "nbconvert_exporter": "python",
   "pygments_lexer": "ipython3",
   "version": "3.7.3"
  }
 },
 "nbformat": 4,
 "nbformat_minor": 2
}
